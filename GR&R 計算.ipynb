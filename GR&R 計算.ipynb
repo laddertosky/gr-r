{
  "metadata": {
    "kernelspec": {
      "display_name": "Python (Pyodide)",
      "language": "python",
      "name": "python"
    },
    "language_info": {
      "codemirror_mode": {
        "name": "python",
        "version": 3
      },
      "file_extension": ".py",
      "mimetype": "text/x-python",
      "name": "python",
      "nbconvert_exporter": "python",
      "pygments_lexer": "ipython3",
      "version": "3.8"
    }
  },
  "nbformat_minor": 5,
  "nbformat": 4,
  "cells": [
    {
      "id": "0f9ed824-b6c6-4dbb-a528-95892879fa6d",
      "cell_type": "code",
      "source": "# 只需要執行一次, 環境準備可能會花費一些時間, 耐心等待左手邊的 [] 內從 * 變成數字\n!pip install numpy pandas statsmodels\nimport numpy as np\nimport pandas as pd\nimport re\nimport statsmodels.api as sm\nfrom statsmodels.formula.api import ols",
      "metadata": {
        "trusted": true
      },
      "outputs": [],
      "execution_count": 3
    },
    {
      "id": "a9d4876a-41ca-4d2c-b825-1a1554f27319",
      "cell_type": "code",
      "source": "# 規格最小值最大值放進來\nlcl = 32\nucl = 48\n\n# 從 excel 將原始數據直接複製貼上, 不用額外處理\ninput_str = \"\"\"\n46.09\t46.09\t46.1\t46.11\t46.17\t46.06\t46.07\t46.09\t46.14\n41.13\t40.98\t40.91\t40.82\t40.86\t40.86\t40.89\t40.87\t40.83\n46.67\t46.2\t46.19\t45.96\t46.28\t46.74\t45.91\t46.01\t46.22\n43.26\t43.37\t43.48\t43.39\t42.69\t43.37\t43.35\t43.38\t43.34\n40.36\t40.3\t40.34\t40.47\t40.29\t40.29\t40.2\t40.22\t40.35\n41.07\t41.26\t41.29\t41.21\t41.25\t41.23\t41.16\t41.25\t41.15\n40.69\t40.66\t40.86\t40.62\t40.75\t40.54\t40.09\t40.34\t40.61\n43\t42.93\t42.92\t42.84\t42.96\t42.82\t42.83\t42.87\t42.81\n43.2\t43.17\t43.14\t43.17\t42.99\t43.22\t43.04\t43.12\t43.1\n39.8\t39.26\t39.6\t39.47\t39.78\t39.36\t39.43\t39.47\t39.44\n\"\"\"",
      "metadata": {
        "trusted": true
      },
      "outputs": [],
      "execution_count": 4
    },
    {
      "id": "475ef792-62e1-4578-9899-754ae2820f1f",
      "cell_type": "code",
      "source": "# 前面修改完後執行該格看結果\n\ntolerance = ucl - lcl\n\ndef parse_squashed_floats(input_str):\n    data = []\n    float_pattern = re.compile(r'-?\\d+(?:\\.\\d+)?')  # Match float numbers\n    for line in input_str.strip().split('\\n'):\n        floats = list(map(float, float_pattern.findall(line)))\n        data.append(floats)\n    return data\n    \ninput_list = parse_squashed_floats(input_str)\nraw_data = np.array(input_list)\nraw_data = np.transpose(raw_data)\n\nn_trials = 3\noperator_ids = list(range(1, 1+len(raw_data)//n_trials))\npart_ids = list(range(1, 1+len(raw_data[0])))\nrecords = []\n\nfor op_index in range(len(operator_ids)):\n    for trial in range(n_trials):\n        row = raw_data[op_index * n_trials + trial]\n        for part_idx, measurement in enumerate(row):\n            records.append({\n                'Operator': operator_ids[op_index],\n                'Trial': trial + 1,\n                'Part': f'Part{part_idx+1}',\n                'Measurement': measurement\n            })\n\ndf = pd.DataFrame(records)\n\n# Perform Two-Way ANOVA without interaction\nmodel = ols('Measurement ~ C(Part) + C(Operator)', data=df).fit()\nanova_table = sm.stats.anova_lm(model, typ=1)\nanova_table['mean_sq'] = anova_table['sum_sq'] / anova_table['df']\n\n# Extract Mean Squares\nMS_part = anova_table.loc['C(Part)', 'mean_sq']\nMS_operator = anova_table.loc['C(Operator)', 'mean_sq']\nMS_repeat = anova_table.loc['Residual', 'mean_sq']\n\nn_operators = df['Operator'].nunique()\nn_parts = df['Part'].nunique()\n\n# Variance Components\nvar_repeat = MS_repeat\nvar_operator = max((MS_operator - MS_repeat) / (n_parts * n_trials), 0)\nvar_part = max((MS_part - MS_repeat) / (n_operators * n_trials), 0)\nvar_grr = var_repeat + var_operator\nvar_total = var_repeat + var_operator + var_part\n\n# Standard deviations\nsd_repeat = np.sqrt(var_repeat)\nsd_operator = np.sqrt(var_operator)\nsd_part = np.sqrt(var_part)\nsd_grr = np.sqrt(var_grr)\nsd_total = np.sqrt(var_total)\n\nresults = {\n    'Source (來源)': ['Total Gage R&R', 'Repeatability', 'Reproducibility', 'Part-to-Part', 'Total Variation'],\n    'SD (標準差)': [sd_grr, sd_repeat, sd_operator, sd_part, sd_total],\n    '%Study Variation (%研究變異)': [6 * sd_grr, 6 * sd_repeat, 6 * sd_operator, 6 * sd_part, 6 * sd_total] / (6 * sd_total) * 100,\n    '%Tolerance (%公差)': [\n       100 * 6 * sd_grr / tolerance,\n       100 * 6 * sd_repeat / tolerance,\n       100 * 6 * sd_operator / tolerance,\n       100 * 6 * sd_part / tolerance,\n       100 * 6 * sd_total / tolerance]\n}\n\nresult_df = pd.DataFrame(results)\npd.set_option('display.float_format', '{:.4f}'.format)\nprint(\"\\nGage R&R Summary:\")\nprint(result_df)\n\n# NDC = 1.41 × (Part SD / GRR SD)\nndc = 1.41 * sd_part / sd_grr\nprint(f\"\\n可區分的類別數 (NDC): {ndc:.2f}, 向下取整數 {int(ndc)}.\")",
      "metadata": {
        "trusted": true
      },
      "outputs": [
        {
          "ename": "<class 'NameError'>",
          "evalue": "name 're' is not defined",
          "traceback": [
            "\u001b[0;31m---------------------------------------------------------------------------\u001b[0m",
            "\u001b[0;31mNameError\u001b[0m                                 Traceback (most recent call last)",
            "Cell \u001b[0;32mIn[4], line 13\u001b[0m\n\u001b[1;32m     10\u001b[0m         data\u001b[38;5;241m.\u001b[39mappend(floats)\n\u001b[1;32m     11\u001b[0m     \u001b[38;5;28;01mreturn\u001b[39;00m data\n\u001b[0;32m---> 13\u001b[0m input_list \u001b[38;5;241m=\u001b[39m \u001b[43mparse_squashed_floats\u001b[49m\u001b[43m(\u001b[49m\u001b[43minput_str\u001b[49m\u001b[43m)\u001b[49m\n\u001b[1;32m     14\u001b[0m raw_data \u001b[38;5;241m=\u001b[39m np\u001b[38;5;241m.\u001b[39marray(input_list)\n\u001b[1;32m     15\u001b[0m raw_data \u001b[38;5;241m=\u001b[39m np\u001b[38;5;241m.\u001b[39mtranspose(raw_data)\n",
            "Cell \u001b[0;32mIn[4], line 7\u001b[0m, in \u001b[0;36mparse_squashed_floats\u001b[0;34m(input_str)\u001b[0m\n\u001b[1;32m      5\u001b[0m \u001b[38;5;28;01mdef\u001b[39;00m \u001b[38;5;21mparse_squashed_floats\u001b[39m(input_str):\n\u001b[1;32m      6\u001b[0m     data \u001b[38;5;241m=\u001b[39m []\n\u001b[0;32m----> 7\u001b[0m     float_pattern \u001b[38;5;241m=\u001b[39m \u001b[43mre\u001b[49m\u001b[38;5;241m.\u001b[39mcompile(\u001b[38;5;124mr\u001b[39m\u001b[38;5;124m'\u001b[39m\u001b[38;5;124m-?\u001b[39m\u001b[38;5;124m\\\u001b[39m\u001b[38;5;124md+(?:\u001b[39m\u001b[38;5;124m\\\u001b[39m\u001b[38;5;124m.\u001b[39m\u001b[38;5;124m\\\u001b[39m\u001b[38;5;124md+)?\u001b[39m\u001b[38;5;124m'\u001b[39m)  \u001b[38;5;66;03m# Match float numbers\u001b[39;00m\n\u001b[1;32m      8\u001b[0m     \u001b[38;5;28;01mfor\u001b[39;00m line \u001b[38;5;129;01min\u001b[39;00m input_str\u001b[38;5;241m.\u001b[39mstrip()\u001b[38;5;241m.\u001b[39msplit(\u001b[38;5;124m'\u001b[39m\u001b[38;5;130;01m\\n\u001b[39;00m\u001b[38;5;124m'\u001b[39m):\n\u001b[1;32m      9\u001b[0m         floats \u001b[38;5;241m=\u001b[39m \u001b[38;5;28mlist\u001b[39m(\u001b[38;5;28mmap\u001b[39m(\u001b[38;5;28mfloat\u001b[39m, float_pattern\u001b[38;5;241m.\u001b[39mfindall(line)))\n",
            "\u001b[0;31mNameError\u001b[0m: name 're' is not defined"
          ],
          "output_type": "error"
        }
      ],
      "execution_count": 4
    },
    {
      "id": "23ffcc6d-def3-4516-9db1-4a1a5b278b31",
      "cell_type": "code",
      "source": "",
      "metadata": {
        "trusted": true
      },
      "outputs": [],
      "execution_count": null
    }
  ]
}