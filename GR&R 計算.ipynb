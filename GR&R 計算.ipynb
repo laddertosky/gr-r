{
  "metadata": {
    "kernelspec": {
      "display_name": "Python (Pyodide)",
      "language": "python",
      "name": "python"
    },
    "language_info": {
      "codemirror_mode": {
        "name": "python",
        "version": 3
      },
      "file_extension": ".py",
      "mimetype": "text/x-python",
      "name": "python",
      "nbconvert_exporter": "python",
      "pygments_lexer": "ipython3",
      "version": "3.8"
    }
  },
  "nbformat_minor": 5,
  "nbformat": 4,
  "cells": [
    {
      "id": "0f9ed824-b6c6-4dbb-a528-95892879fa6d",
      "cell_type": "code",
      "source": "import numpy as np\nimport pandas as pd\nimport re\nimport statsmodels.api as sm\nfrom statsmodels.formula.api import ols",
      "metadata": {
        "trusted": true
      },
      "outputs": [],
      "execution_count": 24
    },
    {
      "id": "a9d4876a-41ca-4d2c-b825-1a1554f27319",
      "cell_type": "code",
      "source": "# 規格最小值最大值放進來\nlcl = 0\nucl = 30\n\n# 從 excel 將原始數據直接複製貼上, 不用額外處理\ninput_str = \"\"\"\n41.65\t41.27\t44.56\t40.85\t40.25\t40.62\t40.07\t43.2\t43.3\t41.14\n41.67\t41.26\t44.61\t40.84\t40.28\t40.52\t39.26\t43.23\t43.23\t41.18\n41.67\t41.25\t44.57\t40.85\t40.25\t40.65\t40.18\t43.22\t43.23\t41.19\n41.63\t41.23\t44.56\t40.87\t40.27\t40.54\t40.12\t43.25\t43.19\t41.14\n41.63\t41.2\t44.49\t40.8\t40.31\t40.54\t40.07\t43.19\t43.2\t41.15\n41.62\t41.22\t44.53\t40.79\t40.26\t40.45\t40.05\t43.2\t43.25\t41.12\n41.63\t41.2\t44.54\t40.84\t40.24\t40.54\t39.23\t43.18\t43.28\t41.17\n41.6\t41.21\t44.56\t40.8\t40.21\t40.49\t40.05\t43.24\t43.21\t41.16\n41.64\t41.2\t44.55\t40.8\t40.26\t40.51\t39.99\t43.24\t43.21\t41.13\n\"\"\"",
      "metadata": {
        "trusted": true
      },
      "outputs": [],
      "execution_count": 104
    },
    {
      "id": "475ef792-62e1-4578-9899-754ae2820f1f",
      "cell_type": "code",
      "source": "# 前面修改完後執行該格看結果\n\ntolerance = ucl - lcl\n\ndef parse_squashed_floats(input_str):\n    data = []\n    float_pattern = re.compile(r'-?\\d+(?:\\.\\d+)?')  # Match float numbers\n    for line in input_str.strip().split('\\n'):\n        floats = list(map(float, float_pattern.findall(line)))\n        data.append(floats)\n    return data\n    \ninput_list = parse_squashed_floats(input_str)\nraw_data = np.array(input_list)\n\nn_trials = 3\noperator_ids = list(range(1, 1+len(raw_data)//n_trials))\npart_ids = list(range(1, 1+len(raw_data[0])))\nrecords = []\n\nfor op_index in range(len(operator_ids)):\n    for trial in range(n_trials):\n        row = raw_data[op_index * n_trials + trial]\n        for part_idx, measurement in enumerate(row):\n            records.append({\n                'Operator': operator_ids[op_index],\n                'Trial': trial + 1,\n                'Part': f'Part{part_idx+1}',\n                'Measurement': measurement\n            })\n\ndf = pd.DataFrame(records)\n\n# Perform Two-Way ANOVA without interaction\nmodel = ols('Measurement ~ C(Part) + C(Operator)', data=df).fit()\nanova_table = sm.stats.anova_lm(model, typ=1)\nanova_table['mean_sq'] = anova_table['sum_sq'] / anova_table['df']\n\n# Extract Mean Squares\nMS_part = anova_table.loc['C(Part)', 'mean_sq']\nMS_operator = anova_table.loc['C(Operator)', 'mean_sq']\nMS_repeat = anova_table.loc['Residual', 'mean_sq']\n\nn_operators = df['Operator'].nunique()\nn_parts = df['Part'].nunique()\n\n# Variance Components\nvar_repeat = MS_repeat\nvar_operator = max((MS_operator - MS_repeat) / (n_parts * n_trials), 0)\nvar_part = max((MS_part - MS_repeat) / (n_operators * n_trials), 0)\nvar_grr = var_repeat + var_operator\nvar_total = var_repeat + var_operator + var_part\n\n# Standard deviations\nsd_repeat = np.sqrt(var_repeat)\nsd_operator = np.sqrt(var_operator)\nsd_part = np.sqrt(var_part)\nsd_grr = np.sqrt(var_grr)\nsd_total = np.sqrt(var_total)\n\nresults = {\n    'Source (來源)': ['Total Gage R&R', 'Repeatability', 'Reproducibility', 'Part-to-Part', 'Total Variation'],\n    'SD (標準差)': [sd_grr, sd_repeat, sd_operator, sd_part, sd_total],\n    '%Study Variation (%研究變異)': [6 * sd_grr, 6 * sd_repeat, 6 * sd_operator, 6 * sd_part, 6 * sd_total] / (6 * sd_total) * 100,\n    '%Tolerance (%公差)': [\n       100 * 6 * sd_grr / tolerance,\n       100 * 6 * sd_repeat / tolerance,\n       100 * 6 * sd_operator / tolerance,\n       100 * 6 * sd_part / tolerance,\n       100 * 6 * sd_total / tolerance]\n}\n\nresult_df = pd.DataFrame(results)\npd.set_option('display.float_format', '{:.4f}'.format)\nprint(\"\\nGage R&R Summary:\")\nprint(result_df)\n\n# NDC = 1.41 × (Part SD / GRR SD)\nndc = 1.41 * sd_part / sd_grr\nprint(f\"\\n可區分的類別數 (NDC): {ndc:.2f}, 向下取整數 {int(ndc)}.\")",
      "metadata": {
        "trusted": true
      },
      "outputs": [
        {
          "name": "stdout",
          "output_type": "stream",
          "text": "\nGage R&R Summary:\n       Source (來源)  SD (標準差)  %Study Variation (%研究變異)  %Tolerance (%公差)\n0   Total Gage R&R    0.1216                    7.9834            2.4313\n1    Repeatability    0.1216                    7.9834            2.4313\n2  Reproducibility    0.0000                    0.0000            0.0000\n3     Part-to-Part    1.5178                   99.6808           30.3566\n4  Total Variation    1.5227                  100.0000           30.4538\n\n可區分的類別數 (NDC): 17.61, 向下取整數 17.\n"
        }
      ],
      "execution_count": 105
    }
  ]
}